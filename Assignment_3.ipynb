{
 "cells": [
  {
   "cell_type": "markdown",
   "metadata": {},
   "source": [
    "1. Write a Python Program to Check if a Number is Positive, Negative or Zero?\n",
    "2. Write a Python Program to Check if a Number is Odd or Even?\n",
    "3. Write a Python Program to Check Leap Year?\n",
    "4. Write a Python Program to Check Prime Number?\n",
    "5. Write a Python Program to Print all Prime Numbers in an Interval of 1-10000?"
   ]
  },
  {
   "cell_type": "code",
   "execution_count": 6,
   "metadata": {},
   "outputs": [],
   "source": [
    "#1.\n",
    "def num(a):\n",
    "    if a > 0: \n",
    "        print(\"positive\")\n",
    "    elif a <0:\n",
    "        print(\"negative\")\n",
    "    else:\n",
    "        print(\"zero\")\n",
    "        "
   ]
  },
  {
   "cell_type": "code",
   "execution_count": 7,
   "metadata": {},
   "outputs": [
    {
     "name": "stdout",
     "output_type": "stream",
     "text": [
      "zero\n"
     ]
    }
   ],
   "source": [
    "num(0)"
   ]
  },
  {
   "cell_type": "code",
   "execution_count": 19,
   "metadata": {},
   "outputs": [],
   "source": [
    "#2\n",
    "def odd_even(a):\n",
    "    if a % 2 == 0:\n",
    "        print(\"even\")\n",
    "    else:\n",
    "        print(\"odd\")"
   ]
  },
  {
   "cell_type": "code",
   "execution_count": 24,
   "metadata": {},
   "outputs": [
    {
     "name": "stdout",
     "output_type": "stream",
     "text": [
      "odd\n"
     ]
    }
   ],
   "source": [
    "odd_even(5)"
   ]
  },
  {
   "cell_type": "code",
   "execution_count": 25,
   "metadata": {},
   "outputs": [],
   "source": [
    "#3\n",
    "def leap(a):\n",
    "    \n",
    "    if a % 4 == 0:\n",
    "        print(\"It is a leap year\")\n",
    "    else:\n",
    "        print(\"It is not a leap year\")\n",
    "        "
   ]
  },
  {
   "cell_type": "code",
   "execution_count": 29,
   "metadata": {},
   "outputs": [
    {
     "name": "stdout",
     "output_type": "stream",
     "text": [
      "It is a leap year\n"
     ]
    }
   ],
   "source": [
    "leap(2024)"
   ]
  },
  {
   "cell_type": "code",
   "execution_count": 48,
   "metadata": {},
   "outputs": [],
   "source": [
    "#4\n",
    "def prime(a):\n",
    "    if (a < 1) | (a==1):\n",
    "        print(\"number is not a prime number\")\n",
    "    elif a > 1:\n",
    "        for i in range(2 , a):\n",
    "            if (a % i) == 0:\n",
    "                print(\"number is not a prime number\")\n",
    "                break\n",
    "        else:\n",
    "            print(\"number is a prime number \")\n",
    "                "
   ]
  },
  {
   "cell_type": "code",
   "execution_count": 49,
   "metadata": {},
   "outputs": [
    {
     "name": "stdout",
     "output_type": "stream",
     "text": [
      "number is not a prime number\n"
     ]
    }
   ],
   "source": [
    "prime(6)"
   ]
  },
  {
   "cell_type": "code",
   "execution_count": 105,
   "metadata": {},
   "outputs": [
    {
     "name": "stdout",
     "output_type": "stream",
     "text": [
      " Please Enter the Minimum Value: 1\n",
      " Please Enter the Maximum Value: 1000\n",
      " 2   3   5   7   11   13   17   19   23   29   31   37   41   43   47   53   59   61   67   71   73   79   83   89   97   101   103   107   109   113   127   131   137   139   149   151   157   163   167   173   179   181   191   193   197   199   211   223   227   229   233   239   241   251   257   263   269   271   277   281   283   293   307   311   313   317   331   337   347   349   353   359   367   373   379   383   389   397   401   409   419   421   431   433   439   443   449   457   461   463   467   479   487   491   499   503   509   521   523   541   547   557   563   569   571   577   587   593   599   601   607   613   617   619   631   641   643   647   653   659   661   673   677   683   691   701   709   719   727   733   739   743   751   757   761   769   773   787   797   809   811   821   823   827   829   839   853   857   859   863   877   881   883   887   907   911   919   929   937   941   947   953   967   971   977   983   991   997  "
     ]
    }
   ],
   "source": [
    "#5\n",
    "minimum = int(input(\" Please Enter the Minimum Value: \"))\n",
    "maximum = int(input(\" Please Enter the Maximum Value: \"))\n",
    "\n",
    "for i in range (minimum, maximum + 1):\n",
    "    count = 0\n",
    "    for j in range(2, (i//2 + 1)):\n",
    "        if(i % j == 0):\n",
    "            count = count + 1\n",
    "            break\n",
    "\n",
    "    if (count == 0 and i != 1):\n",
    "        print(\" %d\" %i, end = '  ')"
   ]
  },
  {
   "cell_type": "code",
   "execution_count": null,
   "metadata": {},
   "outputs": [],
   "source": []
  }
 ],
 "metadata": {
  "kernelspec": {
   "display_name": "Python 3",
   "language": "python",
   "name": "python3"
  },
  "language_info": {
   "codemirror_mode": {
    "name": "ipython",
    "version": 3
   },
   "file_extension": ".py",
   "mimetype": "text/x-python",
   "name": "python",
   "nbconvert_exporter": "python",
   "pygments_lexer": "ipython3",
   "version": "3.8.5"
  }
 },
 "nbformat": 4,
 "nbformat_minor": 4
}
